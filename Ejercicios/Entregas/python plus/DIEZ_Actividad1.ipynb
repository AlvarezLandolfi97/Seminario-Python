{
 "cells": [
  {
   "cell_type": "markdown",
   "id": "b015a19f",
   "metadata": {},
   "source": [
    "# Actividad 1  por Python plus - Parte I \n",
    "\n",
    "## Resolvé el siguiente desafío:"
   ]
  },
  {
   "cell_type": "markdown",
   "id": "84be84f3",
   "metadata": {},
   "source": [
    "**EJERCICIO 10:** dado el archivo denominado [log_catedras](https://archivos.linti.unlp.edu.ar/index.php/s/ofgZh41dUYMYX6H) que contiene  el registro de  accesos al entorno catedras.linti, se desea:\n",
    "1. Generar una función que retorne la actividad de un usuario dado como parámetro. Esta función recibe un parámetro  opcional que indica: \"TODO\" para retornar la información completa, \"EXPLICACION\",  solo los accesos relacionados a las explicaciones de práctica (chequear si en la columna \"Contexto del evento\" aparece el texto  \"BigBlueButton: Sala de VC de explicaciones de práctica\"), \"TEORIA\",  solo los accesos relacionados al material de clases la teoría (chequear si en la columna \"Contexto del evento\" aparece el texto \"Página: Material de las clases\"). Por defecto la función retorna toda la información. \n",
    "2. Escribir un programa que, utilizando la función anterior, muestre un listado similar al siguiente, donde sólo se muestra la información sobre fecha y hora de acceso, recurso accedido y dirección IP. Notar que la columna \"Recurso accedido\" no muestra todo el texto sino los primeros caracteres de modo que quede prolijo el listado.\n",
    " \n",
    "```\n",
    "Usuario: Hypno\n",
    "------------------------------------------------\n",
    "Dia/hora             Recurso accedido     Dir IP\n",
    "------------------------------------------------\n",
    "3/04/23, 09:22:22    BigBlueButton: Sala  190.19.24.34\n",
    "3/04/23, 19:22:22    Tarea: Entrega 2     190.19.24.34\n",
    "```"
   ]
  },
  {
   "cell_type": "code",
   "execution_count": 1,
   "id": "5021bb7c",
   "metadata": {},
   "outputs": [],
   "source": [
    "#Solución\n",
    "import csv\n",
    "import os\n",
    "\n",
    "\n",
    "def buscar_informacion(ruta_archivo, nombre, modo='TODO'):\n",
    "    ''' busca la informacion requerida por parametro, sobre el usuario ingresado y devuelve una lista'''\n",
    "    lista = []\n",
    "    with open(ruta_archivo, \"r\") as file:\n",
    "        reader = csv.reader(file, delimiter=\",\")\n",
    "        next(reader)\n",
    "\n",
    "        for alum in reader:\n",
    "            act_nom = alum[1]  # me guardo el nombre\n",
    "            contexto = alum[3]\n",
    "            if act_nom == nombre:\n",
    "                if modo == 'TODO':\n",
    "                    lista.append(alum)\n",
    "                elif modo == 'EXPLICACION' and 'BigBlueButton: Sala de VC de explicaciones de práctica' in contexto:\n",
    "                    lista.append(alum)\n",
    "                elif modo == 'TEORIA' and 'Página: Material de las clases' in contexto:\n",
    "                    lista.append(alum)\n",
    "    return lista\n",
    "\n",
    "\n",
    "def mostrar_actividad_usuario(actividades):\n",
    "    \"\"\"Muestra la actividad del usuario\"\"\"\n",
    "    print(f\"Usuario: {actividades[0][1]}\")\n",
    "    print(\"-\" * 50)\n",
    "    print(\"{:<20} {:<20} {:<15}\".format(\n",
    "        \"Dia/hora\", \"Recurso accedido\", \"Dir IP\"))\n",
    "    print(\"-\" * 50)\n",
    "    for actividad in actividades:\n",
    "        fecha = actividad[0]\n",
    "        # mostrar solo los primeros 20 caracteres del recurso\n",
    "        recurso = actividad[3][:20]\n",
    "        ip = actividad[6]\n",
    "        print(\"{:<20} {:<20} {:<15}\".format(fecha, recurso, ip))\n",
    "\n",
    "\n",
    "actividades = buscar_informacion('log_catedras.csv', 'Staryu')\n",
    "mostrar_actividad_usuario(actividades)\n"
   ]
  }
 ],
 "metadata": {
  "kernelspec": {
   "display_name": "Python 3 (ipykernel)",
   "language": "python",
   "name": "python3"
  },
  "language_info": {
   "codemirror_mode": {
    "name": "ipython",
    "version": 3
   },
   "file_extension": ".py",
   "mimetype": "text/x-python",
   "name": "python",
   "nbconvert_exporter": "python",
   "pygments_lexer": "ipython3",
   "version": "3.11.2"
  }
 },
 "nbformat": 4,
 "nbformat_minor": 5
}
